{
 "cells": [
  {
   "cell_type": "code",
   "execution_count": 7,
   "id": "1042eafc-97f5-4dce-af7c-e2570818b383",
   "metadata": {},
   "outputs": [],
   "source": [
    "from histocc import OccCANINE\n",
    "import pandas as pd\n",
    "from json import load\n",
    "from pathlib import Path"
   ]
  },
  {
   "cell_type": "code",
   "execution_count": 32,
   "id": "6ffd2c68-607e-4e62-b9f0-076070a68cca",
   "metadata": {},
   "outputs": [
    {
     "data": {
      "text/html": [
       "<div>\n",
       "<style scoped>\n",
       "    .dataframe tbody tr th:only-of-type {\n",
       "        vertical-align: middle;\n",
       "    }\n",
       "\n",
       "    .dataframe tbody tr th {\n",
       "        vertical-align: top;\n",
       "    }\n",
       "\n",
       "    .dataframe thead th {\n",
       "        text-align: right;\n",
       "    }\n",
       "</style>\n",
       "<table border=\"1\" class=\"dataframe\">\n",
       "  <thead>\n",
       "    <tr style=\"text-align: right;\">\n",
       "      <th></th>\n",
       "      <th>ID</th>\n",
       "      <th>shelfmark</th>\n",
       "      <th>duration</th>\n",
       "      <th>registration_no</th>\n",
       "      <th>text_original</th>\n",
       "      <th>text_preprocessed</th>\n",
       "      <th>people</th>\n",
       "      <th>occupation</th>\n",
       "    </tr>\n",
       "  </thead>\n",
       "  <tbody>\n",
       "    <tr>\n",
       "      <th>0</th>\n",
       "      <td>1</td>\n",
       "      <td>7351</td>\n",
       "      <td>24. Apr. 1933</td>\n",
       "      <td>(S Pr 1/33)</td>\n",
       "      <td>(1) 7351 Prozeß gegen den Pflasterer Jakob RIE...</td>\n",
       "      <td>Prozeß gegen den Pflasterer Jakob RIEDERER (ge...</td>\n",
       "      <td>[{'first_name': 'Jakob', 'last_name': 'RIEDERE...</td>\n",
       "      <td>Pflasterer</td>\n",
       "    </tr>\n",
       "    <tr>\n",
       "      <th>1</th>\n",
       "      <td>2</td>\n",
       "      <td>1352</td>\n",
       "      <td>21. Mrz. 1933 16, Mai 1933</td>\n",
       "      <td>(S Pr 2/33)</td>\n",
       "      <td>(2) 1352 Prozeß gegen die Hilfsarbeitersehefra...</td>\n",
       "      <td>Prozeß gegen die Hilfsarbeitersehefrau Maria S...</td>\n",
       "      <td>[{'first_name': 'Maria', 'last_name': 'SCHRAUF...</td>\n",
       "      <td>Hilfsarbeitersehefrau</td>\n",
       "    </tr>\n",
       "    <tr>\n",
       "      <th>2</th>\n",
       "      <td>3</td>\n",
       "      <td>1353</td>\n",
       "      <td>21. Mrz, 1555 20. Apr. 1934</td>\n",
       "      <td>(5 Pr 3/33)</td>\n",
       "      <td>(3) 1353 Prozeß gegen die Hilfsarbeiter Heinri...</td>\n",
       "      <td>Prozeß gegen die Hilfsarbeiter Heinrich BREU (...</td>\n",
       "      <td>[{'first_name': 'Heinrich', 'last_name': 'BREU...</td>\n",
       "      <td>Hilfsarbeiter</td>\n",
       "    </tr>\n",
       "    <tr>\n",
       "      <th>3</th>\n",
       "      <td>5</td>\n",
       "      <td>7355</td>\n",
       "      <td>26, Mrz. 1953 12. Nov, 1933</td>\n",
       "      <td>(S Pr 5/33)</td>\n",
       "      <td>(5) 7355 Prozeß gegen den Bauhilfsarbeiter Jos...</td>\n",
       "      <td>Prozeß gegen den Bauhilfsarbeiter Josef NEUDEC...</td>\n",
       "      <td>[{'first_name': 'Josef', 'last_name': 'NEUDECK...</td>\n",
       "      <td>Bauhilfsarbeiter</td>\n",
       "    </tr>\n",
       "    <tr>\n",
       "      <th>4</th>\n",
       "      <td>6</td>\n",
       "      <td>7356</td>\n",
       "      <td>1. Apr. 1933 25. Apr. 1953</td>\n",
       "      <td>(S Pr 6/33)</td>\n",
       "      <td>(6) 7356 Prozeß gegen den Taglöhner Josef SCHR...</td>\n",
       "      <td>Prozeß gegen den Taglöhner Josef SCHRÖCK (geb....</td>\n",
       "      <td>[{'first_name': 'Josef', 'last_name': 'SCHRÖCK...</td>\n",
       "      <td>Taglöhner</td>\n",
       "    </tr>\n",
       "  </tbody>\n",
       "</table>\n",
       "</div>"
      ],
      "text/plain": [
       "  ID shelfmark                     duration registration_no  \\\n",
       "0  1      7351                24. Apr. 1933     (S Pr 1/33)   \n",
       "1  2      1352   21. Mrz. 1933 16, Mai 1933     (S Pr 2/33)   \n",
       "2  3      1353  21. Mrz, 1555 20. Apr. 1934     (5 Pr 3/33)   \n",
       "3  5      7355  26, Mrz. 1953 12. Nov, 1933     (S Pr 5/33)   \n",
       "4  6      7356   1. Apr. 1933 25. Apr. 1953     (S Pr 6/33)   \n",
       "\n",
       "                                       text_original  \\\n",
       "0  (1) 7351 Prozeß gegen den Pflasterer Jakob RIE...   \n",
       "1  (2) 1352 Prozeß gegen die Hilfsarbeitersehefra...   \n",
       "2  (3) 1353 Prozeß gegen die Hilfsarbeiter Heinri...   \n",
       "3  (5) 7355 Prozeß gegen den Bauhilfsarbeiter Jos...   \n",
       "4  (6) 7356 Prozeß gegen den Taglöhner Josef SCHR...   \n",
       "\n",
       "                                   text_preprocessed  \\\n",
       "0  Prozeß gegen den Pflasterer Jakob RIEDERER (ge...   \n",
       "1  Prozeß gegen die Hilfsarbeitersehefrau Maria S...   \n",
       "2  Prozeß gegen die Hilfsarbeiter Heinrich BREU (...   \n",
       "3  Prozeß gegen den Bauhilfsarbeiter Josef NEUDEC...   \n",
       "4  Prozeß gegen den Taglöhner Josef SCHRÖCK (geb....   \n",
       "\n",
       "                                              people             occupation  \n",
       "0  [{'first_name': 'Jakob', 'last_name': 'RIEDERE...             Pflasterer  \n",
       "1  [{'first_name': 'Maria', 'last_name': 'SCHRAUF...  Hilfsarbeitersehefrau  \n",
       "2  [{'first_name': 'Heinrich', 'last_name': 'BREU...          Hilfsarbeiter  \n",
       "3  [{'first_name': 'Josef', 'last_name': 'NEUDECK...       Bauhilfsarbeiter  \n",
       "4  [{'first_name': 'Josef', 'last_name': 'SCHRÖCK...              Taglöhner  "
      ]
     },
     "execution_count": 32,
     "metadata": {},
     "output_type": "execute_result"
    }
   ],
   "source": [
    "base_dir = Path('.')\n",
    "with open(base_dir.joinpath('2023_02_output.json'),'r',encoding='utf-8') as f:\n",
    "    json = load(f)\n",
    "\n",
    "selection = [ rec['proceeding'] for rec in json['proceedings'] if len(rec['proceeding']['people']) == 1 ]\n",
    "\n",
    "df = pd.DataFrame(selection)\n",
    "df.loc[:,'occupation'] = df.people.map(lambda x: x[0]['occupation'])\n",
    "df.head()"
   ]
  },
  {
   "cell_type": "code",
   "execution_count": 35,
   "id": "d96998b6-54ba-4265-a0ed-5e878c4d8d07",
   "metadata": {},
   "outputs": [
    {
     "name": "stdout",
     "output_type": "stream",
     "text": [
      "Processed batch 27 out of 27 batches\n",
      "Prediction done. Cleaning results.\n",
      "Produced HISCO codes for 6818 observations in 0 hours, 0 minutes and 16.663 seconds.\n",
      "Estimated hours saved compared to human labeller (assuming 10 seconds per label):\n",
      " ---> 18 hours, 56 minutes and 3 seconds\n"
     ]
    },
    {
     "name": "stderr",
     "output_type": "stream",
     "text": [
      "/home/sebastian/Code/OccCANINE/histocc/prediction_assets.py:283: FutureWarning: A value is trying to be set on a copy of a DataFrame or Series through chained assignment using an inplace method.\n",
      "The behavior will change in pandas 3.0. This inplace method will never work because the intermediate object on which we are setting values always behaves as a copy.\n",
      "\n",
      "For example, when doing 'df[col].method(value, inplace=True)', try using 'df.method({col: value}, inplace=True)' or df[col] = df[col].method(value) instead, to perform the operation inplace on the original object.\n",
      "\n",
      "\n",
      "  results[\"hisco_1\"].fillna(\"-1\", inplace=True)\n"
     ]
    }
   ],
   "source": [
    "model = OccCANINE()\n",
    "model.verbose = True\n",
    "res = model.predict(df['occupation'], lang='ge/de', threshold=0.22)"
   ]
  },
  {
   "cell_type": "code",
   "execution_count": 36,
   "id": "b0e1b20e-6a76-41d0-9d65-8460fe4dafaa",
   "metadata": {},
   "outputs": [],
   "source": [
    "res.to_csv('berufe_alt_LLM.csv')"
   ]
  },
  {
   "cell_type": "code",
   "execution_count": 4,
   "id": "6822a279-489f-4e61-bbfa-8d405c4234d7",
   "metadata": {},
   "outputs": [
    {
     "data": {
      "text/plain": [
       "[[[99910, np.float32(0.79841423), 'Labourer']]]"
      ]
     },
     "execution_count": 4,
     "metadata": {},
     "output_type": "execute_result"
    }
   ],
   "source": [
    "model.predict(\n",
    "    [\"Hilfsarbeitersehefrau\"],\n",
    "    get_dict=True,\n",
    "    lang='ge/de'\n",
    ")"
   ]
  },
  {
   "cell_type": "code",
   "execution_count": null,
   "id": "a8e98d13-409b-432a-bf14-fc193f760a30",
   "metadata": {},
   "outputs": [],
   "source": []
  }
 ],
 "metadata": {
  "kernelspec": {
   "display_name": "Python 3 (ipykernel)",
   "language": "python",
   "name": "python3"
  },
  "language_info": {
   "codemirror_mode": {
    "name": "ipython",
    "version": 3
   },
   "file_extension": ".py",
   "mimetype": "text/x-python",
   "name": "python",
   "nbconvert_exporter": "python",
   "pygments_lexer": "ipython3",
   "version": "3.10.15"
  }
 },
 "nbformat": 4,
 "nbformat_minor": 5
}
